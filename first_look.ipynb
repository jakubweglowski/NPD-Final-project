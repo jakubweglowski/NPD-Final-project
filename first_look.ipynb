{
 "cells": [
  {
   "cell_type": "code",
   "execution_count": 3,
   "metadata": {},
   "outputs": [],
   "source": [
    "from importlib import reload\n",
    "import load_data\n",
    "reload(load_data)\n",
    "from load_data import *"
   ]
  },
  {
   "cell_type": "code",
   "execution_count": 6,
   "metadata": {},
   "outputs": [],
   "source": [
    "url = \"https://datasets.imdbws.com/\"\n",
    "filenames = [\"name.basics.tsv.gz\",\n",
    "             \"title.akas.tsv.gz\",\n",
    "             \"title.basics.tsv.gz\",\n",
    "             \"title.crew.tsv.gz\",\n",
    "             \"title.episode.tsv.gz\",\n",
    "             \"title.principals.tsv.gz\",\n",
    "             \"title.ratings.tsv.gz\"\n",
    "]\n",
    "\n",
    "output_paths = download_file(url, filenames, \"data/\")"
   ]
  },
  {
   "cell_type": "markdown",
   "metadata": {},
   "source": [
    "# Pierwszy rzut oka na dane"
   ]
  },
  {
   "cell_type": "code",
   "execution_count": 7,
   "metadata": {},
   "outputs": [],
   "source": [
    "path_to_file = \"data/name.basics.tsv.gz\"\n",
    "df = load_to_dataframe(path_to_file)\n",
    "print(df.head())"
   ]
  },
  {
   "cell_type": "code",
   "execution_count": null,
   "metadata": {},
   "outputs": [],
   "source": [
    "path_to_file = \"data/title.akas.tsv.gz\"\n",
    "df = load_to_dataframe(path_to_file)\n",
    "print(df.head())"
   ]
  },
  {
   "cell_type": "code",
   "execution_count": null,
   "metadata": {},
   "outputs": [],
   "source": [
    "path_to_file = \"data/title.basics.tsv.gz\"\n",
    "df = load_to_dataframe(path_to_file)\n",
    "print(df.head())"
   ]
  },
  {
   "cell_type": "code",
   "execution_count": null,
   "metadata": {},
   "outputs": [],
   "source": [
    "path_to_file = \"data/title.crew.tsv.gz\"\n",
    "df = load_to_dataframe(path_to_file)\n",
    "print(df.head())"
   ]
  },
  {
   "cell_type": "code",
   "execution_count": null,
   "metadata": {},
   "outputs": [],
   "source": [
    "path_to_file = \"data/title.episode.tsv.gz\"\n",
    "df = load_to_dataframe(path_to_file)\n",
    "print(df.head())"
   ]
  },
  {
   "cell_type": "code",
   "execution_count": null,
   "metadata": {},
   "outputs": [],
   "source": [
    "path_to_file = \"data/title.principals.tsv.gz\"\n",
    "df = load_to_dataframe(path_to_file)\n",
    "print(df.head())"
   ]
  },
  {
   "cell_type": "code",
   "execution_count": null,
   "metadata": {},
   "outputs": [],
   "source": [
    "path_to_file = \"data/title.ratings.tsv.gz\"\n",
    "df = load_to_dataframe(path_to_file)\n",
    "print(df.head())"
   ]
  }
 ],
 "metadata": {
  "kernelspec": {
   "display_name": "Python 3",
   "language": "python",
   "name": "python3"
  },
  "language_info": {
   "codemirror_mode": {
    "name": "ipython",
    "version": 3
   },
   "file_extension": ".py",
   "mimetype": "text/x-python",
   "name": "python",
   "nbconvert_exporter": "python",
   "pygments_lexer": "ipython3",
   "version": "3.11.0"
  }
 },
 "nbformat": 4,
 "nbformat_minor": 2
}
